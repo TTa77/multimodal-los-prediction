{
 "cells": [
  {
   "cell_type": "code",
   "execution_count": 1,
   "metadata": {},
   "outputs": [],
   "source": [
    "from transformers import AutoTokenizer, AutoModel\n",
    "import pandas as pd\n",
    "import torch"
   ]
  },
  {
   "cell_type": "code",
   "execution_count": 2,
   "metadata": {},
   "outputs": [
    {
     "name": "stdout",
     "output_type": "stream",
     "text": [
      "Thu Apr  4 15:02:08 2024       \n",
      "+-----------------------------------------------------------------------------+\n",
      "| NVIDIA-SMI 525.116.04   Driver Version: 525.116.04   CUDA Version: 12.0     |\n",
      "|-------------------------------+----------------------+----------------------+\n",
      "| GPU  Name        Persistence-M| Bus-Id        Disp.A | Volatile Uncorr. ECC |\n",
      "| Fan  Temp  Perf  Pwr:Usage/Cap|         Memory-Usage | GPU-Util  Compute M. |\n",
      "|                               |                      |               MIG M. |\n",
      "|===============================+======================+======================|\n",
      "|   0  NVIDIA RTX A6000    Off  | 00000000:00:05.0 Off |                  Off |\n",
      "| 30%   42C    P8    24W / 300W |      1MiB / 49140MiB |      0%      Default |\n",
      "|                               |                      |                  N/A |\n",
      "+-------------------------------+----------------------+----------------------+\n",
      "                                                                               \n",
      "+-----------------------------------------------------------------------------+\n",
      "| Processes:                                                                  |\n",
      "|  GPU   GI   CI        PID   Type   Process name                  GPU Memory |\n",
      "|        ID   ID                                                   Usage      |\n",
      "|=============================================================================|\n",
      "|  No running processes found                                                 |\n",
      "+-----------------------------------------------------------------------------+\n"
     ]
    }
   ],
   "source": [
    "!nvidia-smi"
   ]
  },
  {
   "cell_type": "code",
   "execution_count": 3,
   "metadata": {},
   "outputs": [
    {
     "data": {
      "text/html": [
       "<div>\n",
       "<style scoped>\n",
       "    .dataframe tbody tr th:only-of-type {\n",
       "        vertical-align: middle;\n",
       "    }\n",
       "\n",
       "    .dataframe tbody tr th {\n",
       "        vertical-align: top;\n",
       "    }\n",
       "\n",
       "    .dataframe thead th {\n",
       "        text-align: right;\n",
       "    }\n",
       "</style>\n",
       "<table border=\"1\" class=\"dataframe\">\n",
       "  <thead>\n",
       "    <tr style=\"text-align: right;\">\n",
       "      <th></th>\n",
       "      <th>note_id</th>\n",
       "      <th>id</th>\n",
       "      <th>note_type</th>\n",
       "      <th>note_seq</th>\n",
       "      <th>charttime</th>\n",
       "      <th>text</th>\n",
       "      <th>icu_death</th>\n",
       "      <th>interval</th>\n",
       "    </tr>\n",
       "  </thead>\n",
       "  <tbody>\n",
       "    <tr>\n",
       "      <th>0</th>\n",
       "      <td>17915608-RR-64</td>\n",
       "      <td>20008098</td>\n",
       "      <td>RR</td>\n",
       "      <td>64</td>\n",
       "      <td>1975-02-06 16:23:00</td>\n",
       "      <td>EXAMINATION:  CHEST (PORTABLE AP)\\n\\nINDICATIO...</td>\n",
       "      <td>0</td>\n",
       "      <td>3</td>\n",
       "    </tr>\n",
       "    <tr>\n",
       "      <th>1</th>\n",
       "      <td>17915608-RR-65</td>\n",
       "      <td>20008098</td>\n",
       "      <td>RR</td>\n",
       "      <td>65</td>\n",
       "      <td>1975-02-07 10:50:00</td>\n",
       "      <td>EXAMINATION:  CHEST (PORTABLE AP)\\n\\nINDICATIO...</td>\n",
       "      <td>0</td>\n",
       "      <td>2</td>\n",
       "    </tr>\n",
       "    <tr>\n",
       "      <th>2</th>\n",
       "      <td>17915608-RR-66</td>\n",
       "      <td>20008098</td>\n",
       "      <td>RR</td>\n",
       "      <td>66</td>\n",
       "      <td>1975-02-07 20:17:00</td>\n",
       "      <td>INDICATION:  ___ year old man s/p RUL lobectom...</td>\n",
       "      <td>0</td>\n",
       "      <td>2</td>\n",
       "    </tr>\n",
       "    <tr>\n",
       "      <th>3</th>\n",
       "      <td>17915608-RR-67</td>\n",
       "      <td>20008098</td>\n",
       "      <td>RR</td>\n",
       "      <td>67</td>\n",
       "      <td>1975-02-08 12:20:00</td>\n",
       "      <td>INDICATION:  ___ year old man s/p VATS to Open...</td>\n",
       "      <td>0</td>\n",
       "      <td>1</td>\n",
       "    </tr>\n",
       "    <tr>\n",
       "      <th>4</th>\n",
       "      <td>17915608-RR-68</td>\n",
       "      <td>20008098</td>\n",
       "      <td>RR</td>\n",
       "      <td>68</td>\n",
       "      <td>1975-02-09 07:26:00</td>\n",
       "      <td>INDICATION:  ___ year old man s/p open RUL lob...</td>\n",
       "      <td>0</td>\n",
       "      <td>1</td>\n",
       "    </tr>\n",
       "  </tbody>\n",
       "</table>\n",
       "</div>"
      ],
      "text/plain": [
       "          note_id        id note_type  note_seq            charttime  \\\n",
       "0  17915608-RR-64  20008098        RR        64  1975-02-06 16:23:00   \n",
       "1  17915608-RR-65  20008098        RR        65  1975-02-07 10:50:00   \n",
       "2  17915608-RR-66  20008098        RR        66  1975-02-07 20:17:00   \n",
       "3  17915608-RR-67  20008098        RR        67  1975-02-08 12:20:00   \n",
       "4  17915608-RR-68  20008098        RR        68  1975-02-09 07:26:00   \n",
       "\n",
       "                                                text  icu_death  interval  \n",
       "0  EXAMINATION:  CHEST (PORTABLE AP)\\n\\nINDICATIO...          0         3  \n",
       "1  EXAMINATION:  CHEST (PORTABLE AP)\\n\\nINDICATIO...          0         2  \n",
       "2  INDICATION:  ___ year old man s/p RUL lobectom...          0         2  \n",
       "3  INDICATION:  ___ year old man s/p VATS to Open...          0         1  \n",
       "4  INDICATION:  ___ year old man s/p open RUL lob...          0         1  "
      ]
     },
     "execution_count": 3,
     "metadata": {},
     "output_type": "execute_result"
    }
   ],
   "source": [
    "notes = pd.read_csv('data/notes_with_interval.csv')\n",
    "\n",
    "notes.head()"
   ]
  },
  {
   "cell_type": "code",
   "execution_count": 4,
   "metadata": {},
   "outputs": [
    {
     "name": "stderr",
     "output_type": "stream",
     "text": [
      "Some weights of the model checkpoint at emilyalsentzer/Bio_ClinicalBERT were not used when initializing BertModel: ['cls.seq_relationship.weight', 'cls.predictions.transform.dense.bias', 'cls.predictions.transform.dense.weight', 'cls.seq_relationship.bias', 'cls.predictions.transform.LayerNorm.weight', 'cls.predictions.decoder.weight', 'cls.predictions.bias', 'cls.predictions.transform.LayerNorm.bias']\n",
      "- This IS expected if you are initializing BertModel from the checkpoint of a model trained on another task or with another architecture (e.g. initializing a BertForSequenceClassification model from a BertForPreTraining model).\n",
      "- This IS NOT expected if you are initializing BertModel from the checkpoint of a model that you expect to be exactly identical (initializing a BertForSequenceClassification model from a BertForSequenceClassification model).\n"
     ]
    }
   ],
   "source": [
    "tokenizer = AutoTokenizer.from_pretrained(\"emilyalsentzer/Bio_ClinicalBERT\")\n",
    "model = AutoModel.from_pretrained(\"emilyalsentzer/Bio_ClinicalBERT\")"
   ]
  },
  {
   "cell_type": "code",
   "execution_count": 5,
   "metadata": {},
   "outputs": [
    {
     "name": "stdout",
     "output_type": "stream",
     "text": [
      "device: cuda\n"
     ]
    }
   ],
   "source": [
    "device = torch.device('cuda' if torch.cuda.is_available() else 'cpu')\n",
    "\n",
    "model = model.to(device)\n",
    "\n",
    "print(f'device: {device}')"
   ]
  },
  {
   "cell_type": "code",
   "execution_count": 6,
   "metadata": {},
   "outputs": [
    {
     "data": {
      "text/html": [
       "<div>\n",
       "<style scoped>\n",
       "    .dataframe tbody tr th:only-of-type {\n",
       "        vertical-align: middle;\n",
       "    }\n",
       "\n",
       "    .dataframe tbody tr th {\n",
       "        vertical-align: top;\n",
       "    }\n",
       "\n",
       "    .dataframe thead th {\n",
       "        text-align: right;\n",
       "    }\n",
       "</style>\n",
       "<table border=\"1\" class=\"dataframe\">\n",
       "  <thead>\n",
       "    <tr style=\"text-align: right;\">\n",
       "      <th></th>\n",
       "      <th>note_id</th>\n",
       "      <th>id</th>\n",
       "      <th>note_type</th>\n",
       "      <th>note_seq</th>\n",
       "      <th>charttime</th>\n",
       "      <th>text</th>\n",
       "      <th>icu_death</th>\n",
       "      <th>interval</th>\n",
       "    </tr>\n",
       "  </thead>\n",
       "  <tbody>\n",
       "    <tr>\n",
       "      <th>453</th>\n",
       "      <td>15842769-RR-15</td>\n",
       "      <td>20195689</td>\n",
       "      <td>RR</td>\n",
       "      <td>15</td>\n",
       "      <td>2038-07-05 00:42:00</td>\n",
       "      <td>HISTORY:  ___ male with pneumocephalus; thin-s...</td>\n",
       "      <td>1</td>\n",
       "      <td>14</td>\n",
       "    </tr>\n",
       "    <tr>\n",
       "      <th>454</th>\n",
       "      <td>15842769-RR-16</td>\n",
       "      <td>20195689</td>\n",
       "      <td>RR</td>\n",
       "      <td>16</td>\n",
       "      <td>2038-07-06 11:12:00</td>\n",
       "      <td>INDICATION:  ___ with unexplained persistent p...</td>\n",
       "      <td>1</td>\n",
       "      <td>12</td>\n",
       "    </tr>\n",
       "    <tr>\n",
       "      <th>455</th>\n",
       "      <td>15842769-RR-17</td>\n",
       "      <td>20195689</td>\n",
       "      <td>RR</td>\n",
       "      <td>17</td>\n",
       "      <td>2038-07-08 14:41:00</td>\n",
       "      <td>INDICATION:  ___ male with pneumocephalus Eval...</td>\n",
       "      <td>1</td>\n",
       "      <td>10</td>\n",
       "    </tr>\n",
       "    <tr>\n",
       "      <th>456</th>\n",
       "      <td>15842769-RR-18</td>\n",
       "      <td>20195689</td>\n",
       "      <td>RR</td>\n",
       "      <td>18</td>\n",
       "      <td>2038-07-09 13:37:00</td>\n",
       "      <td>INDICATION:  ___ male with pneumocephalus.\\n\\n...</td>\n",
       "      <td>1</td>\n",
       "      <td>9</td>\n",
       "    </tr>\n",
       "    <tr>\n",
       "      <th>457</th>\n",
       "      <td>15842769-RR-20</td>\n",
       "      <td>20195689</td>\n",
       "      <td>RR</td>\n",
       "      <td>20</td>\n",
       "      <td>2038-07-09 12:03:00</td>\n",
       "      <td>INDICATION:  ___ man with pneumocephalus, eval...</td>\n",
       "      <td>1</td>\n",
       "      <td>9</td>\n",
       "    </tr>\n",
       "  </tbody>\n",
       "</table>\n",
       "</div>"
      ],
      "text/plain": [
       "            note_id        id note_type  note_seq            charttime  \\\n",
       "453  15842769-RR-15  20195689        RR        15  2038-07-05 00:42:00   \n",
       "454  15842769-RR-16  20195689        RR        16  2038-07-06 11:12:00   \n",
       "455  15842769-RR-17  20195689        RR        17  2038-07-08 14:41:00   \n",
       "456  15842769-RR-18  20195689        RR        18  2038-07-09 13:37:00   \n",
       "457  15842769-RR-20  20195689        RR        20  2038-07-09 12:03:00   \n",
       "\n",
       "                                                  text  icu_death  interval  \n",
       "453  HISTORY:  ___ male with pneumocephalus; thin-s...          1        14  \n",
       "454  INDICATION:  ___ with unexplained persistent p...          1        12  \n",
       "455  INDICATION:  ___ male with pneumocephalus Eval...          1        10  \n",
       "456  INDICATION:  ___ male with pneumocephalus.\\n\\n...          1         9  \n",
       "457  INDICATION:  ___ man with pneumocephalus, eval...          1         9  "
      ]
     },
     "execution_count": 6,
     "metadata": {},
     "output_type": "execute_result"
    }
   ],
   "source": [
    "test_ids = [20195689, 22962803]\n",
    "\n",
    "notes = notes[notes['id'].isin(test_ids)]\n",
    "\n",
    "notes.head()"
   ]
  },
  {
   "cell_type": "code",
   "execution_count": 7,
   "metadata": {},
   "outputs": [
    {
     "data": {
      "text/plain": [
       "20195689    18\n",
       "22962803     1\n",
       "Name: id, dtype: int64"
      ]
     },
     "execution_count": 7,
     "metadata": {},
     "output_type": "execute_result"
    }
   ],
   "source": [
    "notes.id.value_counts()"
   ]
  },
  {
   "cell_type": "code",
   "execution_count": null,
   "metadata": {},
   "outputs": [],
   "source": [
    "for id in test_ids:\n",
    "    "
   ]
  },
  {
   "cell_type": "code",
   "execution_count": 8,
   "metadata": {},
   "outputs": [],
   "source": [
    "tokenized_documents = tokenizer(\n",
    "    notes.text.to_list(),\n",
    "    padding=True, truncation=True, \n",
    "    max_length=512, return_tensors=\"pt\"\n",
    "    )\n",
    "\n",
    "tokenized_documents = tokenized_documents.to(device)"
   ]
  },
  {
   "cell_type": "code",
   "execution_count": 9,
   "metadata": {},
   "outputs": [
    {
     "data": {
      "text/plain": [
       "dict_keys(['input_ids', 'token_type_ids', 'attention_mask'])"
      ]
     },
     "execution_count": 9,
     "metadata": {},
     "output_type": "execute_result"
    }
   ],
   "source": [
    "tokenized_documents.keys()"
   ]
  },
  {
   "cell_type": "code",
   "execution_count": 10,
   "metadata": {},
   "outputs": [],
   "source": [
    "outputs = model(**tokenized_documents)"
   ]
  },
  {
   "cell_type": "code",
   "execution_count": 19,
   "metadata": {},
   "outputs": [
    {
     "data": {
      "text/plain": [
       "torch.Size([19, 768])"
      ]
     },
     "execution_count": 19,
     "metadata": {},
     "output_type": "execute_result"
    }
   ],
   "source": [
    "outputs.pooler_output.shape"
   ]
  },
  {
   "cell_type": "code",
   "execution_count": 20,
   "metadata": {},
   "outputs": [
    {
     "data": {
      "text/plain": [
       "2"
      ]
     },
     "execution_count": 20,
     "metadata": {},
     "output_type": "execute_result"
    }
   ],
   "source": [
    "len(outputs)"
   ]
  },
  {
   "cell_type": "code",
   "execution_count": 22,
   "metadata": {},
   "outputs": [
    {
     "data": {
      "text/plain": [
       "odict_keys(['last_hidden_state', 'pooler_output'])"
      ]
     },
     "execution_count": 22,
     "metadata": {},
     "output_type": "execute_result"
    }
   ],
   "source": [
    "outputs.keys()"
   ]
  },
  {
   "cell_type": "code",
   "execution_count": 25,
   "metadata": {},
   "outputs": [
    {
     "data": {
      "text/plain": [
       "19"
      ]
     },
     "execution_count": 25,
     "metadata": {},
     "output_type": "execute_result"
    }
   ],
   "source": [
    "len(tokenized_documents.input_ids)"
   ]
  },
  {
   "cell_type": "code",
   "execution_count": null,
   "metadata": {},
   "outputs": [],
   "source": []
  }
 ],
 "metadata": {
  "kernelspec": {
   "display_name": "Python 3 (ipykernel)",
   "language": "python",
   "name": "python3"
  },
  "language_info": {
   "codemirror_mode": {
    "name": "ipython",
    "version": 3
   },
   "file_extension": ".py",
   "mimetype": "text/x-python",
   "name": "python",
   "nbconvert_exporter": "python",
   "pygments_lexer": "ipython3",
   "version": "3.9.16"
  }
 },
 "nbformat": 4,
 "nbformat_minor": 2
}
