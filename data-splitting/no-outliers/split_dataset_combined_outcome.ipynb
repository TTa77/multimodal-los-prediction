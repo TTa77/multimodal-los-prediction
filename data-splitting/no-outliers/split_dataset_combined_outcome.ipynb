{
 "cells": [
  {
   "cell_type": "markdown",
   "metadata": {},
   "source": [
    "## This Split Removes Outliers\n",
    "- Does not partition on whether the patient ended up dying or not"
   ]
  },
  {
   "cell_type": "code",
   "execution_count": 1,
   "metadata": {},
   "outputs": [],
   "source": [
    "import pandas as pd\n",
    "from sklearn.model_selection import train_test_split"
   ]
  },
  {
   "cell_type": "code",
   "execution_count": 2,
   "metadata": {},
   "outputs": [
    {
     "data": {
      "text/html": [
       "<div>\n",
       "<style scoped>\n",
       "    .dataframe tbody tr th:only-of-type {\n",
       "        vertical-align: middle;\n",
       "    }\n",
       "\n",
       "    .dataframe tbody tr th {\n",
       "        vertical-align: top;\n",
       "    }\n",
       "\n",
       "    .dataframe thead th {\n",
       "        text-align: right;\n",
       "    }\n",
       "</style>\n",
       "<table border=\"1\" class=\"dataframe\">\n",
       "  <thead>\n",
       "    <tr style=\"text-align: right;\">\n",
       "      <th></th>\n",
       "      <th>note_id</th>\n",
       "      <th>id</th>\n",
       "      <th>note_type</th>\n",
       "      <th>note_seq</th>\n",
       "      <th>charttime</th>\n",
       "      <th>text</th>\n",
       "      <th>icu_death</th>\n",
       "      <th>interval</th>\n",
       "    </tr>\n",
       "  </thead>\n",
       "  <tbody>\n",
       "    <tr>\n",
       "      <th>0</th>\n",
       "      <td>17915608-RR-64</td>\n",
       "      <td>20008098</td>\n",
       "      <td>RR</td>\n",
       "      <td>64</td>\n",
       "      <td>1975-02-06 16:23:00</td>\n",
       "      <td>EXAMINATION:  CHEST (PORTABLE AP)\\n\\nINDICATIO...</td>\n",
       "      <td>0</td>\n",
       "      <td>3</td>\n",
       "    </tr>\n",
       "    <tr>\n",
       "      <th>1</th>\n",
       "      <td>17915608-RR-65</td>\n",
       "      <td>20008098</td>\n",
       "      <td>RR</td>\n",
       "      <td>65</td>\n",
       "      <td>1975-02-07 10:50:00</td>\n",
       "      <td>EXAMINATION:  CHEST (PORTABLE AP)\\n\\nINDICATIO...</td>\n",
       "      <td>0</td>\n",
       "      <td>2</td>\n",
       "    </tr>\n",
       "    <tr>\n",
       "      <th>2</th>\n",
       "      <td>17915608-RR-66</td>\n",
       "      <td>20008098</td>\n",
       "      <td>RR</td>\n",
       "      <td>66</td>\n",
       "      <td>1975-02-07 20:17:00</td>\n",
       "      <td>INDICATION:  ___ year old man s/p RUL lobectom...</td>\n",
       "      <td>0</td>\n",
       "      <td>2</td>\n",
       "    </tr>\n",
       "    <tr>\n",
       "      <th>3</th>\n",
       "      <td>17915608-RR-67</td>\n",
       "      <td>20008098</td>\n",
       "      <td>RR</td>\n",
       "      <td>67</td>\n",
       "      <td>1975-02-08 12:20:00</td>\n",
       "      <td>INDICATION:  ___ year old man s/p VATS to Open...</td>\n",
       "      <td>0</td>\n",
       "      <td>1</td>\n",
       "    </tr>\n",
       "    <tr>\n",
       "      <th>4</th>\n",
       "      <td>17915608-RR-68</td>\n",
       "      <td>20008098</td>\n",
       "      <td>RR</td>\n",
       "      <td>68</td>\n",
       "      <td>1975-02-09 07:26:00</td>\n",
       "      <td>INDICATION:  ___ year old man s/p open RUL lob...</td>\n",
       "      <td>0</td>\n",
       "      <td>1</td>\n",
       "    </tr>\n",
       "  </tbody>\n",
       "</table>\n",
       "</div>"
      ],
      "text/plain": [
       "          note_id        id note_type  note_seq            charttime  \\\n",
       "0  17915608-RR-64  20008098        RR        64  1975-02-06 16:23:00   \n",
       "1  17915608-RR-65  20008098        RR        65  1975-02-07 10:50:00   \n",
       "2  17915608-RR-66  20008098        RR        66  1975-02-07 20:17:00   \n",
       "3  17915608-RR-67  20008098        RR        67  1975-02-08 12:20:00   \n",
       "4  17915608-RR-68  20008098        RR        68  1975-02-09 07:26:00   \n",
       "\n",
       "                                                text  icu_death  interval  \n",
       "0  EXAMINATION:  CHEST (PORTABLE AP)\\n\\nINDICATIO...          0         3  \n",
       "1  EXAMINATION:  CHEST (PORTABLE AP)\\n\\nINDICATIO...          0         2  \n",
       "2  INDICATION:  ___ year old man s/p RUL lobectom...          0         2  \n",
       "3  INDICATION:  ___ year old man s/p VATS to Open...          0         1  \n",
       "4  INDICATION:  ___ year old man s/p open RUL lob...          0         1  "
      ]
     },
     "execution_count": 2,
     "metadata": {},
     "output_type": "execute_result"
    }
   ],
   "source": [
    "notes = pd.read_csv('../../data/notes_with_interval.csv')\n",
    "\n",
    "notes.head()"
   ]
  },
  {
   "cell_type": "code",
   "execution_count": 3,
   "metadata": {},
   "outputs": [
    {
     "data": {
      "text/html": [
       "<div>\n",
       "<style scoped>\n",
       "    .dataframe tbody tr th:only-of-type {\n",
       "        vertical-align: middle;\n",
       "    }\n",
       "\n",
       "    .dataframe tbody tr th {\n",
       "        vertical-align: top;\n",
       "    }\n",
       "\n",
       "    .dataframe thead th {\n",
       "        text-align: right;\n",
       "    }\n",
       "</style>\n",
       "<table border=\"1\" class=\"dataframe\">\n",
       "  <thead>\n",
       "    <tr style=\"text-align: right;\">\n",
       "      <th></th>\n",
       "      <th>id</th>\n",
       "      <th>charttime</th>\n",
       "      <th>aniongap</th>\n",
       "      <th>bicarbonate</th>\n",
       "      <th>bun</th>\n",
       "      <th>calcium</th>\n",
       "      <th>chloride</th>\n",
       "      <th>creatinine</th>\n",
       "      <th>glucose</th>\n",
       "      <th>sodium</th>\n",
       "      <th>potassium</th>\n",
       "    </tr>\n",
       "  </thead>\n",
       "  <tbody>\n",
       "    <tr>\n",
       "      <th>0</th>\n",
       "      <td>26115624</td>\n",
       "      <td>9/7/50 0:22</td>\n",
       "      <td>12.0</td>\n",
       "      <td>22.0</td>\n",
       "      <td>9.0</td>\n",
       "      <td>7.9</td>\n",
       "      <td>111.0</td>\n",
       "      <td>0.6</td>\n",
       "      <td>97.0</td>\n",
       "      <td>141.0</td>\n",
       "      <td>3.6</td>\n",
       "    </tr>\n",
       "    <tr>\n",
       "      <th>1</th>\n",
       "      <td>21792938</td>\n",
       "      <td>4/13/28 14:18</td>\n",
       "      <td>11.0</td>\n",
       "      <td>28.0</td>\n",
       "      <td>46.0</td>\n",
       "      <td>7.1</td>\n",
       "      <td>96.0</td>\n",
       "      <td>5.0</td>\n",
       "      <td>95.0</td>\n",
       "      <td>130.0</td>\n",
       "      <td>5.2</td>\n",
       "    </tr>\n",
       "    <tr>\n",
       "      <th>2</th>\n",
       "      <td>28398464</td>\n",
       "      <td>12/9/34 8:10</td>\n",
       "      <td>18.0</td>\n",
       "      <td>21.0</td>\n",
       "      <td>24.0</td>\n",
       "      <td>10.3</td>\n",
       "      <td>100.0</td>\n",
       "      <td>0.7</td>\n",
       "      <td>93.0</td>\n",
       "      <td>135.0</td>\n",
       "      <td>4.0</td>\n",
       "    </tr>\n",
       "    <tr>\n",
       "      <th>3</th>\n",
       "      <td>28478629</td>\n",
       "      <td>10/8/96 5:30</td>\n",
       "      <td>17.0</td>\n",
       "      <td>27.0</td>\n",
       "      <td>86.0</td>\n",
       "      <td>7.4</td>\n",
       "      <td>96.0</td>\n",
       "      <td>3.3</td>\n",
       "      <td>142.0</td>\n",
       "      <td>135.0</td>\n",
       "      <td>4.7</td>\n",
       "    </tr>\n",
       "    <tr>\n",
       "      <th>4</th>\n",
       "      <td>22195489</td>\n",
       "      <td>9/18/45 21:05</td>\n",
       "      <td>17.0</td>\n",
       "      <td>29.0</td>\n",
       "      <td>40.0</td>\n",
       "      <td>11.3</td>\n",
       "      <td>97.0</td>\n",
       "      <td>6.4</td>\n",
       "      <td>118.0</td>\n",
       "      <td>139.0</td>\n",
       "      <td>4.2</td>\n",
       "    </tr>\n",
       "  </tbody>\n",
       "</table>\n",
       "</div>"
      ],
      "text/plain": [
       "         id      charttime  aniongap  bicarbonate   bun  calcium  chloride  \\\n",
       "0  26115624    9/7/50 0:22      12.0         22.0   9.0      7.9     111.0   \n",
       "1  21792938  4/13/28 14:18      11.0         28.0  46.0      7.1      96.0   \n",
       "2  28398464   12/9/34 8:10      18.0         21.0  24.0     10.3     100.0   \n",
       "3  28478629   10/8/96 5:30      17.0         27.0  86.0      7.4      96.0   \n",
       "4  22195489  9/18/45 21:05      17.0         29.0  40.0     11.3      97.0   \n",
       "\n",
       "   creatinine  glucose  sodium  potassium  \n",
       "0         0.6     97.0   141.0        3.6  \n",
       "1         5.0     95.0   130.0        5.2  \n",
       "2         0.7     93.0   135.0        4.0  \n",
       "3         3.3    142.0   135.0        4.7  \n",
       "4         6.4    118.0   139.0        4.2  "
      ]
     },
     "execution_count": 3,
     "metadata": {},
     "output_type": "execute_result"
    }
   ],
   "source": [
    "dynamic = pd.read_csv('../../data/dynamic_cleaned.csv')\n",
    "\n",
    "dynamic.head()"
   ]
  },
  {
   "cell_type": "code",
   "execution_count": 4,
   "metadata": {},
   "outputs": [
    {
     "data": {
      "text/html": [
       "<div>\n",
       "<style scoped>\n",
       "    .dataframe tbody tr th:only-of-type {\n",
       "        vertical-align: middle;\n",
       "    }\n",
       "\n",
       "    .dataframe tbody tr th {\n",
       "        vertical-align: top;\n",
       "    }\n",
       "\n",
       "    .dataframe thead th {\n",
       "        text-align: right;\n",
       "    }\n",
       "</style>\n",
       "<table border=\"1\" class=\"dataframe\">\n",
       "  <thead>\n",
       "    <tr style=\"text-align: right;\">\n",
       "      <th></th>\n",
       "      <th>id</th>\n",
       "      <th>hosp_admittime</th>\n",
       "      <th>hosp_dischtime</th>\n",
       "      <th>icu_intime</th>\n",
       "      <th>icu_outtime</th>\n",
       "      <th>los_icu</th>\n",
       "      <th>icu_death</th>\n",
       "      <th>gender</th>\n",
       "      <th>race</th>\n",
       "      <th>admission_age</th>\n",
       "      <th>...</th>\n",
       "      <th>atrial_fibrillation</th>\n",
       "      <th>malignant_cancer</th>\n",
       "      <th>chf</th>\n",
       "      <th>ckd</th>\n",
       "      <th>cld</th>\n",
       "      <th>copd</th>\n",
       "      <th>diabetes</th>\n",
       "      <th>hypertension</th>\n",
       "      <th>ihd</th>\n",
       "      <th>stroke</th>\n",
       "    </tr>\n",
       "  </thead>\n",
       "  <tbody>\n",
       "    <tr>\n",
       "      <th>11</th>\n",
       "      <td>21999692</td>\n",
       "      <td>2/20/77 21:08</td>\n",
       "      <td>3/6/77 16:40</td>\n",
       "      <td>2/22/77 16:35</td>\n",
       "      <td>2/25/77 17:54</td>\n",
       "      <td>3.05</td>\n",
       "      <td>0</td>\n",
       "      <td>M</td>\n",
       "      <td>BLACK/AFRICAN AMERICAN</td>\n",
       "      <td>55.139306</td>\n",
       "      <td>...</td>\n",
       "      <td>0</td>\n",
       "      <td>0</td>\n",
       "      <td>0</td>\n",
       "      <td>0</td>\n",
       "      <td>0</td>\n",
       "      <td>1</td>\n",
       "      <td>0</td>\n",
       "      <td>0</td>\n",
       "      <td>0</td>\n",
       "      <td>0</td>\n",
       "    </tr>\n",
       "    <tr>\n",
       "      <th>22</th>\n",
       "      <td>25936663</td>\n",
       "      <td>1/11/45 23:02</td>\n",
       "      <td>1/22/45 16:06</td>\n",
       "      <td>1/12/45 15:10</td>\n",
       "      <td>1/13/45 18:50</td>\n",
       "      <td>1.15</td>\n",
       "      <td>0</td>\n",
       "      <td>M</td>\n",
       "      <td>WHITE</td>\n",
       "      <td>65.032170</td>\n",
       "      <td>...</td>\n",
       "      <td>0</td>\n",
       "      <td>1</td>\n",
       "      <td>0</td>\n",
       "      <td>0</td>\n",
       "      <td>1</td>\n",
       "      <td>0</td>\n",
       "      <td>0</td>\n",
       "      <td>1</td>\n",
       "      <td>1</td>\n",
       "      <td>0</td>\n",
       "    </tr>\n",
       "    <tr>\n",
       "      <th>25</th>\n",
       "      <td>25675339</td>\n",
       "      <td>11/2/83 21:12</td>\n",
       "      <td>11/19/83 15:36</td>\n",
       "      <td>11/6/83 20:59</td>\n",
       "      <td>11/10/83 0:44</td>\n",
       "      <td>3.16</td>\n",
       "      <td>0</td>\n",
       "      <td>M</td>\n",
       "      <td>WHITE</td>\n",
       "      <td>61.837481</td>\n",
       "      <td>...</td>\n",
       "      <td>0</td>\n",
       "      <td>0</td>\n",
       "      <td>0</td>\n",
       "      <td>0</td>\n",
       "      <td>0</td>\n",
       "      <td>0</td>\n",
       "      <td>0</td>\n",
       "      <td>0</td>\n",
       "      <td>0</td>\n",
       "      <td>0</td>\n",
       "    </tr>\n",
       "    <tr>\n",
       "      <th>30</th>\n",
       "      <td>27993048</td>\n",
       "      <td>11/19/67 8:23</td>\n",
       "      <td>12/25/67 14:53</td>\n",
       "      <td>11/26/67 16:26</td>\n",
       "      <td>12/5/67 16:53</td>\n",
       "      <td>9.02</td>\n",
       "      <td>0</td>\n",
       "      <td>F</td>\n",
       "      <td>WHITE</td>\n",
       "      <td>56.881238</td>\n",
       "      <td>...</td>\n",
       "      <td>0</td>\n",
       "      <td>0</td>\n",
       "      <td>1</td>\n",
       "      <td>1</td>\n",
       "      <td>0</td>\n",
       "      <td>0</td>\n",
       "      <td>1</td>\n",
       "      <td>1</td>\n",
       "      <td>1</td>\n",
       "      <td>0</td>\n",
       "    </tr>\n",
       "    <tr>\n",
       "      <th>32</th>\n",
       "      <td>22987108</td>\n",
       "      <td>6/10/46 16:37</td>\n",
       "      <td>7/12/46 0:00</td>\n",
       "      <td>6/22/46 11:46</td>\n",
       "      <td>7/13/46 0:27</td>\n",
       "      <td>20.53</td>\n",
       "      <td>1</td>\n",
       "      <td>M</td>\n",
       "      <td>WHITE</td>\n",
       "      <td>69.439961</td>\n",
       "      <td>...</td>\n",
       "      <td>1</td>\n",
       "      <td>0</td>\n",
       "      <td>0</td>\n",
       "      <td>1</td>\n",
       "      <td>0</td>\n",
       "      <td>0</td>\n",
       "      <td>0</td>\n",
       "      <td>1</td>\n",
       "      <td>1</td>\n",
       "      <td>0</td>\n",
       "    </tr>\n",
       "  </tbody>\n",
       "</table>\n",
       "<p>5 rows × 25 columns</p>\n",
       "</div>"
      ],
      "text/plain": [
       "          id hosp_admittime  hosp_dischtime      icu_intime    icu_outtime  \\\n",
       "11  21999692  2/20/77 21:08    3/6/77 16:40   2/22/77 16:35  2/25/77 17:54   \n",
       "22  25936663  1/11/45 23:02   1/22/45 16:06   1/12/45 15:10  1/13/45 18:50   \n",
       "25  25675339  11/2/83 21:12  11/19/83 15:36   11/6/83 20:59  11/10/83 0:44   \n",
       "30  27993048  11/19/67 8:23  12/25/67 14:53  11/26/67 16:26  12/5/67 16:53   \n",
       "32  22987108  6/10/46 16:37    7/12/46 0:00   6/22/46 11:46   7/13/46 0:27   \n",
       "\n",
       "    los_icu  icu_death gender                    race  admission_age  ...  \\\n",
       "11     3.05          0      M  BLACK/AFRICAN AMERICAN      55.139306  ...   \n",
       "22     1.15          0      M                   WHITE      65.032170  ...   \n",
       "25     3.16          0      M                   WHITE      61.837481  ...   \n",
       "30     9.02          0      F                   WHITE      56.881238  ...   \n",
       "32    20.53          1      M                   WHITE      69.439961  ...   \n",
       "\n",
       "    atrial_fibrillation  malignant_cancer chf ckd  cld  copd  diabetes  \\\n",
       "11                    0                 0   0   0    0     1         0   \n",
       "22                    0                 1   0   0    1     0         0   \n",
       "25                    0                 0   0   0    0     0         0   \n",
       "30                    0                 0   1   1    0     0         1   \n",
       "32                    1                 0   0   1    0     0         0   \n",
       "\n",
       "    hypertension  ihd  stroke  \n",
       "11             0    0       0  \n",
       "22             1    1       0  \n",
       "25             0    0       0  \n",
       "30             1    1       0  \n",
       "32             1    1       0  \n",
       "\n",
       "[5 rows x 25 columns]"
      ]
     },
     "execution_count": 4,
     "metadata": {},
     "output_type": "execute_result"
    }
   ],
   "source": [
    "static = pd.read_csv('../../data/static.csv')\n",
    "static = static[static['id'].isin(dynamic['id'])]\n",
    "static.head()"
   ]
  },
  {
   "cell_type": "code",
   "execution_count": 5,
   "metadata": {},
   "outputs": [
    {
     "name": "stdout",
     "output_type": "stream",
     "text": [
      "saved\n"
     ]
    }
   ],
   "source": [
    "static.to_csv('../../data/static_cleaned.csv', index=False)\n",
    "\n",
    "print('saved')"
   ]
  },
  {
   "cell_type": "code",
   "execution_count": 6,
   "metadata": {},
   "outputs": [
    {
     "data": {
      "text/plain": [
       "(3146, 25)"
      ]
     },
     "execution_count": 6,
     "metadata": {},
     "output_type": "execute_result"
    }
   ],
   "source": [
    "static.shape"
   ]
  },
  {
   "cell_type": "code",
   "execution_count": 7,
   "metadata": {},
   "outputs": [
    {
     "name": "stdout",
     "output_type": "stream",
     "text": [
      "lower bound: -4.38\n",
      "upper bound: 12.5\n",
      "sample size: 3146\n"
     ]
    }
   ],
   "source": [
    "Q1 = static['los_icu'].quantile(0.25)\n",
    "Q3 = static['los_icu'].quantile(0.75)\n",
    "IQR = Q3 - Q1\n",
    "\n",
    "lower_bound = Q1 - 1.5 * IQR\n",
    "upper_bound = Q3 + 1.5 * IQR\n",
    "\n",
    "print(f'lower bound: {lower_bound}')\n",
    "print(f'upper bound: {upper_bound}')\n",
    "print(f'sample size: {len(static)}')"
   ]
  },
  {
   "cell_type": "code",
   "execution_count": 8,
   "metadata": {},
   "outputs": [
    {
     "name": "stdout",
     "output_type": "stream",
     "text": [
      "filtered sample size: 2854\n"
     ]
    }
   ],
   "source": [
    "static = static[(static['los_icu'] >= lower_bound) & (static['los_icu'] <= upper_bound)]\n",
    "\n",
    "print(f'filtered sample size: {len(static)}')"
   ]
  },
  {
   "cell_type": "code",
   "execution_count": 9,
   "metadata": {},
   "outputs": [
    {
     "name": "stdout",
     "output_type": "stream",
     "text": [
      "saved\n"
     ]
    }
   ],
   "source": [
    "static_train, static_test = train_test_split(static, test_size=0.10)\n",
    "\n",
    "static_test.to_csv('../../data/regression/no-outliers/combined/static_test.csv', index=False)\n",
    "\n",
    "print('saved')"
   ]
  },
  {
   "cell_type": "code",
   "execution_count": 10,
   "metadata": {},
   "outputs": [
    {
     "data": {
      "text/plain": [
       "(2568, 25)"
      ]
     },
     "execution_count": 10,
     "metadata": {},
     "output_type": "execute_result"
    }
   ],
   "source": [
    "static_train.shape"
   ]
  },
  {
   "cell_type": "code",
   "execution_count": 11,
   "metadata": {},
   "outputs": [
    {
     "name": "stdout",
     "output_type": "stream",
     "text": [
      "saved\n"
     ]
    }
   ],
   "source": [
    "static_train, static_val = train_test_split(static_train, test_size=0.10)\n",
    "\n",
    "\n",
    "static_train.to_csv('../../data/regression/no-outliers/combined/static_train.csv', index=False)\n",
    "static_val.to_csv('../../data/regression/no-outliers/combined/static_val.csv', index=False)\n",
    "\n",
    "print('saved')"
   ]
  },
  {
   "cell_type": "code",
   "execution_count": null,
   "metadata": {},
   "outputs": [],
   "source": []
  }
 ],
 "metadata": {
  "kernelspec": {
   "display_name": "pytorch",
   "language": "python",
   "name": "my_kernel"
  },
  "language_info": {
   "codemirror_mode": {
    "name": "ipython",
    "version": 3
   },
   "file_extension": ".py",
   "mimetype": "text/x-python",
   "name": "python",
   "nbconvert_exporter": "python",
   "pygments_lexer": "ipython3",
   "version": "3.11.8"
  }
 },
 "nbformat": 4,
 "nbformat_minor": 2
}
